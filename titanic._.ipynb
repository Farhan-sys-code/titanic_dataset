{
 "cells": [
  {
   "cell_type": "code",
   "execution_count": 25,
   "id": "1fa380ea",
   "metadata": {},
   "outputs": [
    {
     "name": "stdout",
     "output_type": "stream",
     "text": [
      "   PassengerId  Survived  Pclass  \\\n",
      "0            1         0       3   \n",
      "1            2         1       1   \n",
      "2            3         1       3   \n",
      "3            4         1       1   \n",
      "4            5         0       3   \n",
      "\n",
      "                                                Name     Sex   Age  SibSp  \\\n",
      "0                            Braund, Mr. Owen Harris    male  22.0      1   \n",
      "1  Cumings, Mrs. John Bradley (Florence Briggs Th...  female  38.0      1   \n",
      "2                             Heikkinen, Miss. Laina  female  26.0      0   \n",
      "3       Futrelle, Mrs. Jacques Heath (Lily May Peel)  female  35.0      1   \n",
      "4                           Allen, Mr. William Henry    male  35.0      0   \n",
      "\n",
      "   Parch            Ticket     Fare Cabin Embarked Total Survived  \n",
      "0      0         A/5 21171   7.2500   NaN        S     Unsurvived  \n",
      "1      0          PC 17599  71.2833   C85        C       Survived  \n",
      "2      0  STON/O2. 3101282   7.9250   NaN        S       Survived  \n",
      "3      0            113803  53.1000  C123        S       Survived  \n",
      "4      0            373450   8.0500   NaN        S     Unsurvived  \n",
      "give us the information about data\n",
      "<class 'pandas.core.frame.DataFrame'>\n",
      "RangeIndex: 891 entries, 0 to 890\n",
      "Data columns (total 13 columns):\n",
      " #   Column          Non-Null Count  Dtype  \n",
      "---  ------          --------------  -----  \n",
      " 0   PassengerId     891 non-null    int64  \n",
      " 1   Survived        891 non-null    int64  \n",
      " 2   Pclass          891 non-null    int64  \n",
      " 3   Name            891 non-null    object \n",
      " 4   Sex             891 non-null    object \n",
      " 5   Age             714 non-null    float64\n",
      " 6   SibSp           891 non-null    int64  \n",
      " 7   Parch           891 non-null    int64  \n",
      " 8   Ticket          891 non-null    object \n",
      " 9   Fare            891 non-null    float64\n",
      " 10  Cabin           204 non-null    object \n",
      " 11  Embarked        889 non-null    object \n",
      " 12  Total Survived  891 non-null    object \n",
      "dtypes: float64(2), int64(5), object(6)\n",
      "memory usage: 90.6+ KB\n",
      "None\n",
      "describe the data\n",
      "       PassengerId    Survived      Pclass         Age       SibSp  \\\n",
      "count   891.000000  891.000000  891.000000  714.000000  891.000000   \n",
      "mean    446.000000    0.383838    2.308642   29.699118    0.523008   \n",
      "std     257.353842    0.486592    0.836071   14.526497    1.102743   \n",
      "min       1.000000    0.000000    1.000000    0.420000    0.000000   \n",
      "25%     223.500000    0.000000    2.000000   20.125000    0.000000   \n",
      "50%     446.000000    0.000000    3.000000   28.000000    0.000000   \n",
      "75%     668.500000    1.000000    3.000000   38.000000    1.000000   \n",
      "max     891.000000    1.000000    3.000000   80.000000    8.000000   \n",
      "\n",
      "            Parch        Fare  \n",
      "count  891.000000  891.000000  \n",
      "mean     0.381594   32.204208  \n",
      "std      0.806057   49.693429  \n",
      "min      0.000000    0.000000  \n",
      "25%      0.000000    7.910400  \n",
      "50%      0.000000   14.454200  \n",
      "75%      0.000000   31.000000  \n",
      "max      6.000000  512.329200  \n",
      "Give us the shape of the data\n",
      "Give us the null values in each column\n",
      "PassengerId         0\n",
      "Survived            0\n",
      "Pclass              0\n",
      "Name                0\n",
      "Sex                 0\n",
      "Age               177\n",
      "SibSp               0\n",
      "Parch               0\n",
      "Ticket              0\n",
      "Fare                0\n",
      "Cabin             687\n",
      "Embarked            2\n",
      "Total Survived      0\n",
      "dtype: int64\n"
     ]
    }
   ],
   "source": [
    "import pandas as pd\n",
    "import numpy as np\n",
    "\n",
    "df = pd.read_csv(\"C:/Users/mypc/OneDrive/Desktop/python data analytics/pandas2/titanic.csv\")\n",
    "df['Total Survived'] = np.where(df['Survived']==1,'Survived','Unsurvived')\n",
    "# print((df['Total Survived']=='Survived').sum())\n",
    "print(df.head())\n",
    "print(\"give us the information about data\")\n",
    "print(df.info())\n",
    "print(\"describe the data\")\n",
    "print(df.describe())\n",
    "print(\"Give us the shape of the data\")\n",
    "# print(df.shape())\n",
    "print(\"Give us the null values in each column\")\n",
    "\n",
    "print(df.isnull().sum())\n",
    "\n",
    "\n",
    "\n",
    "\n",
    "\n",
    "\n",
    "\n",
    "\n",
    "\n",
    "\n",
    "\n",
    "\n",
    "\n",
    "\n"
   ]
  },
  {
   "cell_type": "code",
   "execution_count": 26,
   "id": "541f63e3",
   "metadata": {},
   "outputs": [
    {
     "name": "stdout",
     "output_type": "stream",
     "text": [
      "Fill null values in age column with mean\n",
      "0      22.000000\n",
      "1      38.000000\n",
      "2      26.000000\n",
      "3      35.000000\n",
      "4      35.000000\n",
      "         ...    \n",
      "886    27.000000\n",
      "887    19.000000\n",
      "888    29.699118\n",
      "889    26.000000\n",
      "890    32.000000\n",
      "Name: Age, Length: 891, dtype: float64\n"
     ]
    }
   ],
   "source": [
    "\n",
    "print(\"Fill null values in age column with mean\")\n",
    "df[\"Age\"] = df[\"Age\"].fillna (df['Age'].mean())\n",
    "print(df[\"Age\"])\n"
   ]
  },
  {
   "cell_type": "code",
   "execution_count": 27,
   "id": "4e8031d2",
   "metadata": {},
   "outputs": [
    {
     "name": "stdout",
     "output_type": "stream",
     "text": [
      "WE fill the values in Embarked by mode()\n",
      "0      S\n",
      "1      C\n",
      "2      S\n",
      "3      S\n",
      "4      S\n",
      "      ..\n",
      "886    S\n",
      "887    S\n",
      "888    S\n",
      "889    C\n",
      "890    Q\n",
      "Name: Embarked, Length: 891, dtype: object\n"
     ]
    }
   ],
   "source": [
    "\n",
    "print(\"WE fill the values in Embarked by mode()\")\n",
    "df['Embarked'] = df[\"Embarked\"].fillna(df[\"Embarked\"].mode()[0]) #.mode take the most common port \"S\"\n",
    "print(df[\"Embarked\"])"
   ]
  },
  {
   "cell_type": "code",
   "execution_count": 28,
   "id": "f7fdf909",
   "metadata": {},
   "outputs": [
    {
     "name": "stdout",
     "output_type": "stream",
     "text": [
      "Number of missing data in cabin is high\n",
      "0      Unknown\n",
      "1          C85\n",
      "2      Unknown\n",
      "3         C123\n",
      "4      Unknown\n",
      "        ...   \n",
      "886    Unknown\n",
      "887        B42\n",
      "888    Unknown\n",
      "889       C148\n",
      "890    Unknown\n",
      "Name: Cabin, Length: 891, dtype: object\n"
     ]
    }
   ],
   "source": [
    "\n",
    "print(\"Number of missing data in cabin is high\")\n",
    "df[\"Cabin\"] = df['Cabin'].fillna('Unknown')\n",
    "print(df[\"Cabin\"])"
   ]
  },
  {
   "cell_type": "code",
   "execution_count": 29,
   "id": "69d4ee97",
   "metadata": {},
   "outputs": [
    {
     "name": "stdout",
     "output_type": "stream",
     "text": [
      "Double check what the table situation is there any null values remaining\n",
      "PassengerId       0\n",
      "Survived          0\n",
      "Pclass            0\n",
      "Name              0\n",
      "Sex               0\n",
      "Age               0\n",
      "SibSp             0\n",
      "Parch             0\n",
      "Ticket            0\n",
      "Fare              0\n",
      "Cabin             0\n",
      "Embarked          0\n",
      "Total Survived    0\n",
      "dtype: int64\n"
     ]
    }
   ],
   "source": [
    "\n",
    "\n",
    "print(\"Double check what the table situation is there any null values remaining\")\n",
    "print(df.isnull().sum())\n"
   ]
  },
  {
   "cell_type": "code",
   "execution_count": 30,
   "id": "fd31af41",
   "metadata": {},
   "outputs": [
    {
     "name": "stdout",
     "output_type": "stream",
     "text": [
      "Count the passengers\n",
      "Survived\n",
      "0    549\n",
      "1    342\n",
      "Name: count, dtype: int64\n",
      "Survived in titanic: 342\n",
      "Died in titanic: 549\n",
      "Passenger class distribution\n",
      "Pclass\n",
      "3    491\n",
      "1    216\n",
      "2    184\n",
      "Name: count, dtype: int64\n",
      "Passenger by gender\n",
      "Sex\n",
      "male      577\n",
      "female    314\n",
      "Name: count, dtype: int64\n"
     ]
    }
   ],
   "source": [
    "print(\"Count the passengers\")\n",
    "print(df['Survived'].value_counts())\n",
    "\n",
    "survival_rate = (df[\"Survived\"]==1).sum()\n",
    "print(\"Survived in titanic:\",survival_rate)\n",
    "\n",
    "\n",
    "died_rate = (df['Survived']==0).sum()\n",
    "print(\"Died in titanic:\",died_rate)\n",
    "\n",
    "\n",
    "print(\"Passenger class distribution\")\n",
    "print(df['Pclass'].value_counts())\n",
    "\n",
    "print(\"Passenger by gender\")\n",
    "print(df[\"Sex\"].value_counts())\n"
   ]
  },
  {
   "cell_type": "code",
   "execution_count": 31,
   "id": "2202fb8f",
   "metadata": {},
   "outputs": [
    {
     "name": "stdout",
     "output_type": "stream",
     "text": [
      "Survival Rate by gender\n",
      "Sex\n",
      "female    0.742038\n",
      "male      0.188908\n",
      "Name: Survived, dtype: float64\n",
      "Survival Rate by class\n",
      "Pclass\n",
      "1    0.629630\n",
      "2    0.472826\n",
      "3    0.242363\n",
      "Name: Survived, dtype: float64\n",
      "Survival Rate Class + Gender\n",
      "Survival rate of class and gender Pclass  Sex   \n",
      "1       female    0.968085\n",
      "        male      0.368852\n",
      "2       female    0.921053\n",
      "        male      0.157407\n",
      "3       female    0.500000\n",
      "        male      0.135447\n",
      "Name: Survived, dtype: float64\n"
     ]
    }
   ],
   "source": [
    "print(\"Survival Rate by gender\")\n",
    "survival_rate_gender = df.groupby(\"Sex\")['Survived'].mean()\n",
    "print(survival_rate_gender)\n",
    "\n",
    "print(\"Survival Rate by class\")\n",
    "survival_class = df.groupby(\"Pclass\")['Survived'].mean()\n",
    "print(survival_class)\n",
    "\n",
    "print(\"Survival Rate Class + Gender\")\n",
    "class_Gender = df.groupby(['Pclass','Sex'])['Survived'].mean()\n",
    "print(\"Survival rate of class and gender\",class_Gender)"
   ]
  },
  {
   "cell_type": "code",
   "execution_count": null,
   "id": "a6ce9d5b",
   "metadata": {},
   "outputs": [
    {
     "name": "stdout",
     "output_type": "stream",
     "text": [
      "     PassengerId  Survived  Pclass  \\\n",
      "0              1         0       3   \n",
      "1              2         1       1   \n",
      "2              3         1       3   \n",
      "3              4         1       1   \n",
      "4              5         0       3   \n",
      "..           ...       ...     ...   \n",
      "886          887         0       2   \n",
      "887          888         1       1   \n",
      "888          889         0       3   \n",
      "889          890         1       1   \n",
      "890          891         0       3   \n",
      "\n",
      "                                                  Name     Sex        Age  \\\n",
      "0                              Braund, Mr. Owen Harris    male  22.000000   \n",
      "1    Cumings, Mrs. John Bradley (Florence Briggs Th...  female  38.000000   \n",
      "2                               Heikkinen, Miss. Laina  female  26.000000   \n",
      "3         Futrelle, Mrs. Jacques Heath (Lily May Peel)  female  35.000000   \n",
      "4                             Allen, Mr. William Henry    male  35.000000   \n",
      "..                                                 ...     ...        ...   \n",
      "886                              Montvila, Rev. Juozas    male  27.000000   \n",
      "887                       Graham, Miss. Margaret Edith  female  19.000000   \n",
      "888           Johnston, Miss. Catherine Helen \"Carrie\"  female  29.699118   \n",
      "889                              Behr, Mr. Karl Howell    male  26.000000   \n",
      "890                                Dooley, Mr. Patrick    male  32.000000   \n",
      "\n",
      "     SibSp  Parch            Ticket     Fare    Cabin Embarked Total Survived  \n",
      "0        1      0         A/5 21171   7.2500  Unknown        S     Unsurvived  \n",
      "1        1      0          PC 17599  71.2833      C85        C       Survived  \n",
      "2        0      0  STON/O2. 3101282   7.9250  Unknown        S       Survived  \n",
      "3        1      0            113803  53.1000     C123        S       Survived  \n",
      "4        0      0            373450   8.0500  Unknown        S     Unsurvived  \n",
      "..     ...    ...               ...      ...      ...      ...            ...  \n",
      "886      0      0            211536  13.0000  Unknown        S     Unsurvived  \n",
      "887      0      0            112053  30.0000      B42        S       Survived  \n",
      "888      1      2        W./C. 6607  23.4500  Unknown        S     Unsurvived  \n",
      "889      0      0            111369  30.0000     C148        C       Survived  \n",
      "890      0      0            370376   7.7500  Unknown        Q     Unsurvived  \n",
      "\n",
      "[891 rows x 13 columns]\n"
     ]
    }
   ],
   "source": [
    "# Drop the duplicate name\n",
    "df = df.drop_duplicates('Name')\n",
    "print(df)"
   ]
  },
  {
   "cell_type": "code",
   "execution_count": 33,
   "id": "a1d314d0",
   "metadata": {},
   "outputs": [
    {
     "name": "stdout",
     "output_type": "stream",
     "text": [
      "Survival and non Survival Rate of Passenger\n",
      "Survival rate: 38.38383838383838\n",
      "Unsurvival rate: 61.61616161616162\n"
     ]
    }
   ],
   "source": [
    "\n",
    "print(\"Survival and non Survival Rate of Passenger\")\n",
    "total = len(df)\n",
    "survived = df['Survived'].sum()\n",
    "survivalrate = survived/total *(100)\n",
    "unsurvived = 100 - survivalrate\n",
    "\n",
    "print(\"Survival rate:\",survivalrate)\n",
    "print(\"Unsurvival rate:\",unsurvived)\n"
   ]
  },
  {
   "cell_type": "code",
   "execution_count": 34,
   "id": "bb8a4407",
   "metadata": {},
   "outputs": [
    {
     "name": "stdout",
     "output_type": "stream",
     "text": [
      "Survival rate 38.38383838383838\n"
     ]
    }
   ],
   "source": [
    "survival = df['Survived'].mean()*100\n",
    "print(\"Survival rate\",survival)"
   ]
  },
  {
   "cell_type": "code",
   "execution_count": 35,
   "id": "0117aeb5",
   "metadata": {},
   "outputs": [
    {
     "name": "stdout",
     "output_type": "stream",
     "text": [
      "     PassengerId  Survived  Pclass  \\\n",
      "0              1         0       3   \n",
      "1              2         1       1   \n",
      "2              3         1       3   \n",
      "3              4         1       1   \n",
      "4              5         0       3   \n",
      "..           ...       ...     ...   \n",
      "886          887         0       2   \n",
      "887          888         1       1   \n",
      "888          889         0       3   \n",
      "889          890         1       1   \n",
      "890          891         0       3   \n",
      "\n",
      "                                                  Name     Sex        Age  \\\n",
      "0                              Braund, Mr. Owen Harris    male  22.000000   \n",
      "1    Cumings, Mrs. John Bradley (Florence Briggs Th...  female  38.000000   \n",
      "2                               Heikkinen, Miss. Laina  female  26.000000   \n",
      "3         Futrelle, Mrs. Jacques Heath (Lily May Peel)  female  35.000000   \n",
      "4                             Allen, Mr. William Henry    male  35.000000   \n",
      "..                                                 ...     ...        ...   \n",
      "886                              Montvila, Rev. Juozas    male  27.000000   \n",
      "887                       Graham, Miss. Margaret Edith  female  19.000000   \n",
      "888           Johnston, Miss. Catherine Helen \"Carrie\"  female  29.699118   \n",
      "889                              Behr, Mr. Karl Howell    male  26.000000   \n",
      "890                                Dooley, Mr. Patrick    male  32.000000   \n",
      "\n",
      "     SibSp  Parch            Ticket     Fare    Cabin Embarked Total Survived  \n",
      "0        1      0         A/5 21171   7.2500  Unknown        S     Unsurvived  \n",
      "1        1      0          PC 17599  71.2833      C85        C       Survived  \n",
      "2        0      0  STON/O2. 3101282   7.9250  Unknown        S       Survived  \n",
      "3        1      0            113803  53.1000     C123        S       Survived  \n",
      "4        0      0            373450   8.0500  Unknown        S     Unsurvived  \n",
      "..     ...    ...               ...      ...      ...      ...            ...  \n",
      "886      0      0            211536  13.0000  Unknown        S     Unsurvived  \n",
      "887      0      0            112053  30.0000      B42        S       Survived  \n",
      "888      1      2        W./C. 6607  23.4500  Unknown        S     Unsurvived  \n",
      "889      0      0            111369  30.0000     C148        C       Survived  \n",
      "890      0      0            370376   7.7500  Unknown        Q     Unsurvived  \n",
      "\n",
      "[891 rows x 13 columns]\n"
     ]
    }
   ],
   "source": [
    "df.to_csv(\"Titanic.csv\",index=False)\n",
    "print(df)"
   ]
  }
 ],
 "metadata": {
  "kernelspec": {
   "display_name": "Python 3",
   "language": "python",
   "name": "python3"
  },
  "language_info": {
   "codemirror_mode": {
    "name": "ipython",
    "version": 3
   },
   "file_extension": ".py",
   "mimetype": "text/x-python",
   "name": "python",
   "nbconvert_exporter": "python",
   "pygments_lexer": "ipython3",
   "version": "3.12.2"
  }
 },
 "nbformat": 4,
 "nbformat_minor": 5
}
